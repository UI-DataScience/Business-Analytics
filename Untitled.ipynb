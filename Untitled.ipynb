{
 "cells": [
  {
   "cell_type": "code",
   "execution_count": 7,
   "metadata": {
    "collapsed": false
   },
   "outputs": [
    {
     "name": "stdout",
     "output_type": "stream",
     "text": [
      "   MeterID  Day/Time  Usage\n",
      "0     1392     19503  0.140\n",
      "1     1392     19504  0.138\n",
      "2     1392     19505  0.140\n",
      "3     1392     19506  0.145\n",
      "4     1392     19507  0.145\n"
     ]
    },
    {
     "data": {
      "text/html": [
       "<div>\n",
       "<table border=\"1\" class=\"dataframe\">\n",
       "  <thead>\n",
       "    <tr style=\"text-align: right;\">\n",
       "      <th></th>\n",
       "      <th>MeterID</th>\n",
       "      <th>Day/Time</th>\n",
       "      <th>Usage</th>\n",
       "    </tr>\n",
       "  </thead>\n",
       "  <tbody>\n",
       "    <tr>\n",
       "      <th>count</th>\n",
       "      <td>2.446584e+07</td>\n",
       "      <td>2.446584e+07</td>\n",
       "      <td>2.446584e+07</td>\n",
       "    </tr>\n",
       "    <tr>\n",
       "      <th>mean</th>\n",
       "      <td>1.500390e+03</td>\n",
       "      <td>4.588802e+04</td>\n",
       "      <td>6.993640e-01</td>\n",
       "    </tr>\n",
       "    <tr>\n",
       "      <th>std</th>\n",
       "      <td>2.887520e+02</td>\n",
       "      <td>1.543705e+04</td>\n",
       "      <td>1.363046e+00</td>\n",
       "    </tr>\n",
       "    <tr>\n",
       "      <th>min</th>\n",
       "      <td>1.000000e+03</td>\n",
       "      <td>1.950100e+04</td>\n",
       "      <td>0.000000e+00</td>\n",
       "    </tr>\n",
       "    <tr>\n",
       "      <th>25%</th>\n",
       "      <td>1.250000e+03</td>\n",
       "      <td>3.251300e+04</td>\n",
       "      <td>1.260000e-01</td>\n",
       "    </tr>\n",
       "    <tr>\n",
       "      <th>50%</th>\n",
       "      <td>1.501000e+03</td>\n",
       "      <td>4.570600e+04</td>\n",
       "      <td>2.800000e-01</td>\n",
       "    </tr>\n",
       "    <tr>\n",
       "      <th>75%</th>\n",
       "      <td>1.751000e+03</td>\n",
       "      <td>5.920900e+04</td>\n",
       "      <td>6.990000e-01</td>\n",
       "    </tr>\n",
       "    <tr>\n",
       "      <th>max</th>\n",
       "      <td>1.999000e+03</td>\n",
       "      <td>7.304800e+04</td>\n",
       "      <td>4.384400e+01</td>\n",
       "    </tr>\n",
       "  </tbody>\n",
       "</table>\n",
       "</div>"
      ],
      "text/plain": [
       "            MeterID      Day/Time         Usage\n",
       "count  2.446584e+07  2.446584e+07  2.446584e+07\n",
       "mean   1.500390e+03  4.588802e+04  6.993640e-01\n",
       "std    2.887520e+02  1.543705e+04  1.363046e+00\n",
       "min    1.000000e+03  1.950100e+04  0.000000e+00\n",
       "25%    1.250000e+03  3.251300e+04  1.260000e-01\n",
       "50%    1.501000e+03  4.570600e+04  2.800000e-01\n",
       "75%    1.751000e+03  5.920900e+04  6.990000e-01\n",
       "max    1.999000e+03  7.304800e+04  4.384400e+01"
      ]
     },
     "execution_count": 7,
     "metadata": {},
     "output_type": "execute_result"
    }
   ],
   "source": [
    "import pandas as pd\n",
    "import numpy as np\n",
    "\n",
    "df = pd.read_csv('/home/preska/ISSDADataset/data/CER_both/CERElectricityRevisedMarch2012/File1.txt', delimiter=' ')\n",
    "\n",
    "print(df[['MeterID', 'Day/Time', 'Usage']].head(5))\n",
    "\n",
    "df.dtypes\n",
    "df.describe()"
   ]
  },
  {
   "cell_type": "code",
   "execution_count": null,
   "metadata": {
    "collapsed": true
   },
   "outputs": [],
   "source": []
  }
 ],
 "metadata": {
  "kernelspec": {
   "display_name": "Python 2",
   "language": "python",
   "name": "python2"
  },
  "language_info": {
   "codemirror_mode": {
    "name": "ipython",
    "version": 2
   },
   "file_extension": ".py",
   "mimetype": "text/x-python",
   "name": "python",
   "nbconvert_exporter": "python",
   "pygments_lexer": "ipython2",
   "version": "2.7.6"
  }
 },
 "nbformat": 4,
 "nbformat_minor": 0
}
