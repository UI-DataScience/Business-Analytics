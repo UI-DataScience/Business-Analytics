{
 "cells": [
  {
   "cell_type": "code",
   "execution_count": 6,
   "metadata": {
    "collapsed": false
   },
   "outputs": [
    {
     "name": "stdout",
     "output_type": "stream",
     "text": [
      "   MeterID  Day/Time  Usage\n",
      "0     1392     19503  0.140\n",
      "1     1392     19504  0.138\n",
      "2     1392     19505  0.140\n",
      "3     1392     19506  0.145\n",
      "4     1392     19507  0.145\n"
     ]
    },
    {
     "data": {
      "text/plain": [
       "MeterID       int64\n",
       "Day/Time      int64\n",
       "Usage       float64\n",
       "dtype: object"
      ]
     },
     "execution_count": 6,
     "metadata": {},
     "output_type": "execute_result"
    }
   ],
   "source": [
    "import pandas as pd\n",
    "import numpy as np\n",
    "\n",
    "df = pd.read_csv('/home/preska/ISSDADataset/data/CER_both/CERElectricityRevisedMarch2012/File1.txt', delimiter=' ')\n",
    "\n",
    "print(df[['MeterID', 'Day/Time', 'Usage']].head(5))\n",
    "\n",
    "df.dtypes\n",
    "df.describe()"
   ]
  },
  {
   "cell_type": "code",
   "execution_count": null,
   "metadata": {
    "collapsed": true
   },
   "outputs": [],
   "source": []
  }
 ],
 "metadata": {
  "kernelspec": {
   "display_name": "Python 2",
   "language": "python",
   "name": "python2"
  },
  "language_info": {
   "codemirror_mode": {
    "name": "ipython",
    "version": 2
   },
   "file_extension": ".py",
   "mimetype": "text/x-python",
   "name": "python",
   "nbconvert_exporter": "python",
   "pygments_lexer": "ipython2",
   "version": "2.7.6"
  }
 },
 "nbformat": 4,
 "nbformat_minor": 0
}
